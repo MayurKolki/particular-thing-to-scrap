{
 "cells": [
  {
   "cell_type": "markdown",
   "id": "b0a1c332",
   "metadata": {},
   "source": [
    "# photography summary Assignment\n",
    "#### Mayur Kolki PGA14 pune"
   ]
  },
  {
   "cell_type": "code",
   "execution_count": 1,
   "id": "50936f8b",
   "metadata": {},
   "outputs": [
    {
     "data": {
      "text/plain": [
       "'\\nAssignment\\n\\nGiven a text (about 2000 words of text of any subject), make a summary/precis of the text \\n\\ntake the subject as ==>\"photography\"\\n\\n20% of original document \\n\\n'"
      ]
     },
     "execution_count": 1,
     "metadata": {},
     "output_type": "execute_result"
    }
   ],
   "source": [
    "\n",
    "'''\n",
    "Assignment\n",
    "\n",
    "Given a text (about 2000 words of text of any subject), make a summary/precis of the text \n",
    "\n",
    "take the subject as ==>\"photography\"\n",
    "\n",
    "20% of original document \n",
    "\n",
    "'''\n"
   ]
  },
  {
   "cell_type": "code",
   "execution_count": 2,
   "id": "cfae8301",
   "metadata": {},
   "outputs": [],
   "source": [
    "import nltk"
   ]
  },
  {
   "cell_type": "code",
   "execution_count": 3,
   "id": "23011218",
   "metadata": {},
   "outputs": [],
   "source": [
    "import bs4 as bs\n",
    "import urllib.request\n",
    "import re\n",
    "\n",
    "scraped_data = urllib.request.urlopen('https://en.wikipedia.org/wiki/Photograph')\n",
    "article = scraped_data.read()\n",
    "\n",
    "parsed_article = bs.BeautifulSoup(article,'lxml')\n",
    "\n",
    "paragraphs = parsed_article.find_all('p')\n",
    "\n",
    "article_text = \"\"\n",
    "\n",
    "for p in paragraphs:\n",
    "    article_text += p.text"
   ]
  },
  {
   "cell_type": "code",
   "execution_count": 4,
   "id": "d7621957",
   "metadata": {},
   "outputs": [
    {
     "data": {
      "text/plain": [
       "'\\nA photograph (also known as a photo) is an image created by light falling on a photosensitive surface, usually photographic film or an electronic image sensor, such as a CCD or a CMOS chip. Most photographs are created using a smartphone/camera, which uses a lens to focus the scene\\'s visible wavelengths of light into a reproduction of what the human eye would see. The process and practice of creating such images is called photography.\\nThe word photograph was coined in 1839 by Sir John Herschel and is based on the Greek φῶς (phos), meaning \"light,\" and γραφή (graphê), meaning \"drawing, writing,\" together meaning \"drawing with light.\"[1]\\nThe first permanent photograph, a contact-exposed copy of an engraving, was made in 1822 using the bitumen-based \"heliography\" process developed by Nicéphore Niépce. The first photographs of a real-world scene, made using a camera obscura, followed a few years later at Le Gras, France, in 1826, but Niépce\\'s process was not sensitive enough to be practical for that application: a camera exposure lasting for hours or days was required.[2] In 1829 Niépce entered into a partnership with Louis Daguerre and the two collaborated to work out a similar but more sensitive and otherwise improved process.\\nAfter Niépce\\'s death in 1833 Daguerre concentrated on silver halide-based alternatives. He exposed a silver-plated copper sheet to iodine vapor, creating a layer of light-sensitive silver iodide; exposed it in the camera for a few minutes; developed the resulting invisible latent image to visibility with mercury fumes; then bathed the plate in a hot salt solution to remove the remaining silver iodide, making the results light-fast. He named this first practical process for making photographs with a camera the daguerreotype, after himself. Its existence was announced to the world on 7 January 1839 but working details were not made public until 19 August. Other inventors soon made improvements which reduced the required exposure time from a few minutes to a few seconds, making portrait photography truly practical and widely popular.\\nThe daguerreotype had shortcomings, notably the fragility of the mirror-like image surface and the particular viewing conditions required to see the image properly. Each was a unique opaque positive that could only be duplicated by copying it with a camera. Inventors set about working out improved processes that would be more practical. By the end of the 1850s the daguerreotype had been replaced by the less expensive and more easily viewed ambrotype and tintype, which made use of the recently introduced collodion process. Glass plate collodion negatives used to make prints on albumen paper soon became the preferred photographic method and held that position for many years, even after the introduction of the more convenient gelatin process in 1871. Refinements of the gelatin process have remained the primary black-and-white photographic process to this day, differing primarily in the sensitivity of the emulsion and the support material used, which was originally glass, then a variety of flexible plastic films, along with various types of paper for the final prints.\\nColor photography is almost as old as black-and-white, with early experiments including John Herschel\\'s Anthotype prints in 1842, the pioneering work of Louis Ducos du Hauron in the 1860s, and the Lippmann process unveiled in 1891, but for many years color photography remained little more than a laboratory curiosity. It first became a widespread commercial reality with the introduction of Autochrome plates in 1907, but the plates were very expensive and not suitable for casual snapshot-taking with hand-held cameras. The mid-1930s saw the introduction of Kodachrome and Agfacolor Neu, the first easy-to-use color films of the modern multi-layer chromogenic type. These early processes produced transparencies for use in slide projectors and viewing devices, but color prints became increasingly popular after the introduction of chromogenic color print paper in the 1940s. The needs of the motion picture industry generated a number of special processes and systems, perhaps the best-known being the now-obsolete three-strip Technicolor process.\\nNon-digital photographs are produced with a two-step chemical process.  In the two-step process the light-sensitive film captures a negative image (colors and lights/darks are inverted).  To produce a positive image, the negative is most commonly transferred (\\'printed\\') onto photographic paper. Printing the negative onto transparent film stock is used to manufacture motion picture films.\\nAlternatively, the film is processed to invert the negative image, yielding positive transparencies.  Such positive images are usually mounted in frames, called slides. Before recent advances in digital photography, transparencies were widely used by professionals because of their sharpness and accuracy of color rendition. Most photographs published in magazines were taken on color transparency film.\\nOriginally, all photographs were monochromatic or hand-painted in color. Although methods for developing color photos were available as early as 1861, they did not become widely available until the 1940s or 1950s, and even so, until the 1960s most photographs were taken in black and white. Since then, color photography has dominated popular photography, although black and white is still used, being easier to develop than color.\\nPanoramic format images can be taken with cameras like the Hasselblad Xpan on standard film. Since the 1990s, panoramic photos have been available on the Advanced Photo System (APS) film. APS was developed by several of the major film manufacturers to provide a film with different formats and computerized options available, though APS panoramas were created using a mask in panorama-capable cameras, far less desirable than a true panoramic camera, which achieves its effect through a wider film format. APS has become less popular and has been discontinued.\\nThe advent of the microcomputer and digital photography has led to the rise of digital prints. These prints are created from stored graphic formats such as JPEG, TIFF, and RAW. The types of printers used include inkjet printers, dye-sublimation printer, laser printers, and thermal printers. Inkjet prints are sometimes given the coined name \"Giclée\".\\nThe Web has been a popular medium for storing and sharing photos ever since the first photograph was published on the web by Tim Berners-Lee in 1992 (an image of the CERN house band Les Horribles Cernettes). Today popular sites such as Flickr, PhotoBucket and 500px are used by millions of people to share their pictures.\\nIdeal photograph storage involves placing each photo in an individual folder constructed from buffered, or acid-free paper.[4] Buffered paper folders are especially recommended in cases when a photograph was previously mounted onto poor quality material or using an adhesive that will lead to even more acid creation.[5] Store photographs measuring 8x10 inches or smaller vertically along the longer edge of the photo in the buffered paper folder, within a larger archival box, and label each folder with relevant information to identify it.  The rigid nature of the folder protects the photo from slumping or creasing, as long as the box is not packed too tightly or under filled. Folder larger photos or brittle photos stacked flat within archival boxes with other materials of comparable size.[6]\\nThe most stable of plastics used in photo preservation, polyester, does not generate any harmful chemical elements, nor does it have any capability to absorb acids generated by the photograph itself.  Polyester sleeves and encapsulation have been praised for their ability to protect the photograph from humidity and environmental pollution, slowing the reaction between the item and the atmosphere.  This is true, however the polyester just as frequently traps these elements next to the material it is intended to protect.  This is especially risky in a storage environment that experiences drastic fluctuations in humidity or temperature, leading to ferrotyping, or sticking of the photograph to the plastic.[4] Photographs sleeved or encapsulated in polyester cannot be stored vertically in boxes because they will slide down next to each other within the box, bending and folding, nor can the archivist write directly onto the polyester to identify the photograph. Therefore, it is necessary to either stack polyester protected photographs horizontally within a box, or bind them in a three ring binder.  Stacking the photos horizontally within a flat box will greatly reduce ease of access, and binders leave three sides of the photo exposed to the effects of light[7] and do not support the photograph evenly on both sides, leading to slumping and bending within the binder.  The plastic used for enclosures has been manufactured to be as frictionless as possible to prevent scratching photos during insertion to the sleeves.  Unfortunately, the slippery nature of the enclosure generates a build-up of static electricity, which attracts dust and lint particles.  The static can attract the dust to the inside of the sleeve, as well, where it can scratch the photograph.[4] Likewise, these components that aid in insertion of the photo, referred to as slip agents, can break down and transfer from the plastic to the photograph, where they deposit as an oily film, attracting further lint and dust.  At this time, there is no test to evaluate the long-term effects of these components on photographs.  In addition, the plastic sleeves can develop kinks or creases in the surface, which will scratch away at the emulsion during handling.[7]\\nIt is best to leave photographs lying flat on the table when viewing them.  Do not pick it up from a corner, or even from two sides and hold it at eye level.  Every time the photograph bends, even a little, this can break down the emulsion.[8] The very nature of enclosing a photograph in plastic encourages users to pick it up; users tend to handle plastic enclosed photographs less gently than non-enclosed photographs, simply because they feel the plastic enclosure makes the photo impervious to all mishandling.  As long as a photo is in its folder, there is no need to touch it; simply remove the folder from the box, lay it flat on the table, and open the folder.  If for some reason the researcher or archivist does need to handle the actual photo, perhaps to examine the verso for writing, he or she can use gloves if there appears to be a risk from oils or dirt on the hands.\\nBecause daguerreotypes were rendered on a mirrored surface, many spiritualists also became practitioners of the new art form.  Spiritualists would claim that the human image on the mirrored surface was akin to looking into one\\'s soul.  The spiritualists also believed that it would open their souls and let demons in. Among Muslims, it is makruh (disliked) to perform salah (worship) in a place decorated with photographs.[9] Photography and darkroom anomalies and artifacts sometimes lead viewers to believe that spirits or demons have been captured in photos.[10]\\nThe production or distribution of certain types of photograph has been forbidden under modern laws, such as those of government buildings,[11] highly classified regions,[12] private property, copyrighted works,[13][14] children\\'s genitalia,[15] child pornography and less commonly pornography overall.[16] These laws vary greatly between jurisdictions.\\n'"
      ]
     },
     "execution_count": 4,
     "metadata": {},
     "output_type": "execute_result"
    }
   ],
   "source": [
    "article_text"
   ]
  },
  {
   "cell_type": "code",
   "execution_count": 5,
   "id": "db021026",
   "metadata": {},
   "outputs": [],
   "source": [
    "# Removing Square Brackets and Extra Spaces\n",
    "article_text = re.sub(r'\\[[0-9]*\\]', ' ', article_text)\n",
    "article_text = re.sub(r'\\s+', ' ', article_text)"
   ]
  },
  {
   "cell_type": "code",
   "execution_count": 6,
   "id": "d5724bf9",
   "metadata": {},
   "outputs": [],
   "source": [
    "# Removing special characters and digits\n",
    "formatted_article_text = re.sub('[^a-zA-Z]', ' ', article_text )\n",
    "formatted_article_text = re.sub(r'\\s+', ' ', formatted_article_text)"
   ]
  },
  {
   "cell_type": "code",
   "execution_count": 7,
   "id": "3bda1a51",
   "metadata": {},
   "outputs": [
    {
     "data": {
      "text/plain": [
       "' A photograph also known as a photo is an image created by light falling on a photosensitive surface usually photographic film or an electronic image sensor such as a CCD or a CMOS chip Most photographs are created using a smartphone camera which uses a lens to focus the scene s visible wavelengths of light into a reproduction of what the human eye would see The process and practice of creating such images is called photography The word photograph was coined in by Sir John Herschel and is based on the Greek phos meaning light and graph meaning drawing writing together meaning drawing with light The first permanent photograph a contact exposed copy of an engraving was made in using the bitumen based heliography process developed by Nic phore Ni pce The first photographs of a real world scene made using a camera obscura followed a few years later at Le Gras France in but Ni pce s process was not sensitive enough to be practical for that application a camera exposure lasting for hours or days was required In Ni pce entered into a partnership with Louis Daguerre and the two collaborated to work out a similar but more sensitive and otherwise improved process After Ni pce s death in Daguerre concentrated on silver halide based alternatives He exposed a silver plated copper sheet to iodine vapor creating a layer of light sensitive silver iodide exposed it in the camera for a few minutes developed the resulting invisible latent image to visibility with mercury fumes then bathed the plate in a hot salt solution to remove the remaining silver iodide making the results light fast He named this first practical process for making photographs with a camera the daguerreotype after himself Its existence was announced to the world on January but working details were not made public until August Other inventors soon made improvements which reduced the required exposure time from a few minutes to a few seconds making portrait photography truly practical and widely popular The daguerreotype had shortcomings notably the fragility of the mirror like image surface and the particular viewing conditions required to see the image properly Each was a unique opaque positive that could only be duplicated by copying it with a camera Inventors set about working out improved processes that would be more practical By the end of the s the daguerreotype had been replaced by the less expensive and more easily viewed ambrotype and tintype which made use of the recently introduced collodion process Glass plate collodion negatives used to make prints on albumen paper soon became the preferred photographic method and held that position for many years even after the introduction of the more convenient gelatin process in Refinements of the gelatin process have remained the primary black and white photographic process to this day differing primarily in the sensitivity of the emulsion and the support material used which was originally glass then a variety of flexible plastic films along with various types of paper for the final prints Color photography is almost as old as black and white with early experiments including John Herschel s Anthotype prints in the pioneering work of Louis Ducos du Hauron in the s and the Lippmann process unveiled in but for many years color photography remained little more than a laboratory curiosity It first became a widespread commercial reality with the introduction of Autochrome plates in but the plates were very expensive and not suitable for casual snapshot taking with hand held cameras The mid s saw the introduction of Kodachrome and Agfacolor Neu the first easy to use color films of the modern multi layer chromogenic type These early processes produced transparencies for use in slide projectors and viewing devices but color prints became increasingly popular after the introduction of chromogenic color print paper in the s The needs of the motion picture industry generated a number of special processes and systems perhaps the best known being the now obsolete three strip Technicolor process Non digital photographs are produced with a two step chemical process In the two step process the light sensitive film captures a negative image colors and lights darks are inverted To produce a positive image the negative is most commonly transferred printed onto photographic paper Printing the negative onto transparent film stock is used to manufacture motion picture films Alternatively the film is processed to invert the negative image yielding positive transparencies Such positive images are usually mounted in frames called slides Before recent advances in digital photography transparencies were widely used by professionals because of their sharpness and accuracy of color rendition Most photographs published in magazines were taken on color transparency film Originally all photographs were monochromatic or hand painted in color Although methods for developing color photos were available as early as they did not become widely available until the s or s and even so until the s most photographs were taken in black and white Since then color photography has dominated popular photography although black and white is still used being easier to develop than color Panoramic format images can be taken with cameras like the Hasselblad Xpan on standard film Since the s panoramic photos have been available on the Advanced Photo System APS film APS was developed by several of the major film manufacturers to provide a film with different formats and computerized options available though APS panoramas were created using a mask in panorama capable cameras far less desirable than a true panoramic camera which achieves its effect through a wider film format APS has become less popular and has been discontinued The advent of the microcomputer and digital photography has led to the rise of digital prints These prints are created from stored graphic formats such as JPEG TIFF and RAW The types of printers used include inkjet printers dye sublimation printer laser printers and thermal printers Inkjet prints are sometimes given the coined name Gicl e The Web has been a popular medium for storing and sharing photos ever since the first photograph was published on the web by Tim Berners Lee in an image of the CERN house band Les Horribles Cernettes Today popular sites such as Flickr PhotoBucket and px are used by millions of people to share their pictures Ideal photograph storage involves placing each photo in an individual folder constructed from buffered or acid free paper Buffered paper folders are especially recommended in cases when a photograph was previously mounted onto poor quality material or using an adhesive that will lead to even more acid creation Store photographs measuring x inches or smaller vertically along the longer edge of the photo in the buffered paper folder within a larger archival box and label each folder with relevant information to identify it The rigid nature of the folder protects the photo from slumping or creasing as long as the box is not packed too tightly or under filled Folder larger photos or brittle photos stacked flat within archival boxes with other materials of comparable size The most stable of plastics used in photo preservation polyester does not generate any harmful chemical elements nor does it have any capability to absorb acids generated by the photograph itself Polyester sleeves and encapsulation have been praised for their ability to protect the photograph from humidity and environmental pollution slowing the reaction between the item and the atmosphere This is true however the polyester just as frequently traps these elements next to the material it is intended to protect This is especially risky in a storage environment that experiences drastic fluctuations in humidity or temperature leading to ferrotyping or sticking of the photograph to the plastic Photographs sleeved or encapsulated in polyester cannot be stored vertically in boxes because they will slide down next to each other within the box bending and folding nor can the archivist write directly onto the polyester to identify the photograph Therefore it is necessary to either stack polyester protected photographs horizontally within a box or bind them in a three ring binder Stacking the photos horizontally within a flat box will greatly reduce ease of access and binders leave three sides of the photo exposed to the effects of light and do not support the photograph evenly on both sides leading to slumping and bending within the binder The plastic used for enclosures has been manufactured to be as frictionless as possible to prevent scratching photos during insertion to the sleeves Unfortunately the slippery nature of the enclosure generates a build up of static electricity which attracts dust and lint particles The static can attract the dust to the inside of the sleeve as well where it can scratch the photograph Likewise these components that aid in insertion of the photo referred to as slip agents can break down and transfer from the plastic to the photograph where they deposit as an oily film attracting further lint and dust At this time there is no test to evaluate the long term effects of these components on photographs In addition the plastic sleeves can develop kinks or creases in the surface which will scratch away at the emulsion during handling It is best to leave photographs lying flat on the table when viewing them Do not pick it up from a corner or even from two sides and hold it at eye level Every time the photograph bends even a little this can break down the emulsion The very nature of enclosing a photograph in plastic encourages users to pick it up users tend to handle plastic enclosed photographs less gently than non enclosed photographs simply because they feel the plastic enclosure makes the photo impervious to all mishandling As long as a photo is in its folder there is no need to touch it simply remove the folder from the box lay it flat on the table and open the folder If for some reason the researcher or archivist does need to handle the actual photo perhaps to examine the verso for writing he or she can use gloves if there appears to be a risk from oils or dirt on the hands Because daguerreotypes were rendered on a mirrored surface many spiritualists also became practitioners of the new art form Spiritualists would claim that the human image on the mirrored surface was akin to looking into one s soul The spiritualists also believed that it would open their souls and let demons in Among Muslims it is makruh disliked to perform salah worship in a place decorated with photographs Photography and darkroom anomalies and artifacts sometimes lead viewers to believe that spirits or demons have been captured in photos The production or distribution of certain types of photograph has been forbidden under modern laws such as those of government buildings highly classified regions private property copyrighted works children s genitalia child pornography and less commonly pornography overall These laws vary greatly between jurisdictions '"
      ]
     },
     "execution_count": 7,
     "metadata": {},
     "output_type": "execute_result"
    }
   ],
   "source": [
    "formatted_article_text"
   ]
  },
  {
   "cell_type": "code",
   "execution_count": 8,
   "id": "4c867581",
   "metadata": {},
   "outputs": [],
   "source": [
    "sentence_list = nltk.sent_tokenize(article_text)"
   ]
  },
  {
   "cell_type": "code",
   "execution_count": 9,
   "id": "0dc24af5",
   "metadata": {},
   "outputs": [
    {
     "data": {
      "text/plain": [
       "[' A photograph (also known as a photo) is an image created by light falling on a photosensitive surface, usually photographic film or an electronic image sensor, such as a CCD or a CMOS chip.',\n",
       " \"Most photographs are created using a smartphone/camera, which uses a lens to focus the scene's visible wavelengths of light into a reproduction of what the human eye would see.\",\n",
       " 'The process and practice of creating such images is called photography.',\n",
       " 'The word photograph was coined in 1839 by Sir John Herschel and is based on the Greek φῶς (phos), meaning \"light,\" and γραφή (graphê), meaning \"drawing, writing,\" together meaning \"drawing with light.\"',\n",
       " 'The first permanent photograph, a contact-exposed copy of an engraving, was made in 1822 using the bitumen-based \"heliography\" process developed by Nicéphore Niépce.',\n",
       " \"The first photographs of a real-world scene, made using a camera obscura, followed a few years later at Le Gras, France, in 1826, but Niépce's process was not sensitive enough to be practical for that application: a camera exposure lasting for hours or days was required.\",\n",
       " 'In 1829 Niépce entered into a partnership with Louis Daguerre and the two collaborated to work out a similar but more sensitive and otherwise improved process.',\n",
       " \"After Niépce's death in 1833 Daguerre concentrated on silver halide-based alternatives.\",\n",
       " 'He exposed a silver-plated copper sheet to iodine vapor, creating a layer of light-sensitive silver iodide; exposed it in the camera for a few minutes; developed the resulting invisible latent image to visibility with mercury fumes; then bathed the plate in a hot salt solution to remove the remaining silver iodide, making the results light-fast.',\n",
       " 'He named this first practical process for making photographs with a camera the daguerreotype, after himself.',\n",
       " 'Its existence was announced to the world on 7 January 1839 but working details were not made public until 19 August.',\n",
       " 'Other inventors soon made improvements which reduced the required exposure time from a few minutes to a few seconds, making portrait photography truly practical and widely popular.',\n",
       " 'The daguerreotype had shortcomings, notably the fragility of the mirror-like image surface and the particular viewing conditions required to see the image properly.',\n",
       " 'Each was a unique opaque positive that could only be duplicated by copying it with a camera.',\n",
       " 'Inventors set about working out improved processes that would be more practical.',\n",
       " 'By the end of the 1850s the daguerreotype had been replaced by the less expensive and more easily viewed ambrotype and tintype, which made use of the recently introduced collodion process.',\n",
       " 'Glass plate collodion negatives used to make prints on albumen paper soon became the preferred photographic method and held that position for many years, even after the introduction of the more convenient gelatin process in 1871.',\n",
       " 'Refinements of the gelatin process have remained the primary black-and-white photographic process to this day, differing primarily in the sensitivity of the emulsion and the support material used, which was originally glass, then a variety of flexible plastic films, along with various types of paper for the final prints.',\n",
       " \"Color photography is almost as old as black-and-white, with early experiments including John Herschel's Anthotype prints in 1842, the pioneering work of Louis Ducos du Hauron in the 1860s, and the Lippmann process unveiled in 1891, but for many years color photography remained little more than a laboratory curiosity.\",\n",
       " 'It first became a widespread commercial reality with the introduction of Autochrome plates in 1907, but the plates were very expensive and not suitable for casual snapshot-taking with hand-held cameras.',\n",
       " 'The mid-1930s saw the introduction of Kodachrome and Agfacolor Neu, the first easy-to-use color films of the modern multi-layer chromogenic type.',\n",
       " 'These early processes produced transparencies for use in slide projectors and viewing devices, but color prints became increasingly popular after the introduction of chromogenic color print paper in the 1940s.',\n",
       " 'The needs of the motion picture industry generated a number of special processes and systems, perhaps the best-known being the now-obsolete three-strip Technicolor process.',\n",
       " 'Non-digital photographs are produced with a two-step chemical process.',\n",
       " 'In the two-step process the light-sensitive film captures a negative image (colors and lights/darks are inverted).',\n",
       " \"To produce a positive image, the negative is most commonly transferred ('printed') onto photographic paper.\",\n",
       " 'Printing the negative onto transparent film stock is used to manufacture motion picture films.',\n",
       " 'Alternatively, the film is processed to invert the negative image, yielding positive transparencies.',\n",
       " 'Such positive images are usually mounted in frames, called slides.',\n",
       " 'Before recent advances in digital photography, transparencies were widely used by professionals because of their sharpness and accuracy of color rendition.',\n",
       " 'Most photographs published in magazines were taken on color transparency film.',\n",
       " 'Originally, all photographs were monochromatic or hand-painted in color.',\n",
       " 'Although methods for developing color photos were available as early as 1861, they did not become widely available until the 1940s or 1950s, and even so, until the 1960s most photographs were taken in black and white.',\n",
       " 'Since then, color photography has dominated popular photography, although black and white is still used, being easier to develop than color.',\n",
       " 'Panoramic format images can be taken with cameras like the Hasselblad Xpan on standard film.',\n",
       " 'Since the 1990s, panoramic photos have been available on the Advanced Photo System (APS) film.',\n",
       " 'APS was developed by several of the major film manufacturers to provide a film with different formats and computerized options available, though APS panoramas were created using a mask in panorama-capable cameras, far less desirable than a true panoramic camera, which achieves its effect through a wider film format.',\n",
       " 'APS has become less popular and has been discontinued.',\n",
       " 'The advent of the microcomputer and digital photography has led to the rise of digital prints.',\n",
       " 'These prints are created from stored graphic formats such as JPEG, TIFF, and RAW.',\n",
       " 'The types of printers used include inkjet printers, dye-sublimation printer, laser printers, and thermal printers.',\n",
       " 'Inkjet prints are sometimes given the coined name \"Giclée\".',\n",
       " 'The Web has been a popular medium for storing and sharing photos ever since the first photograph was published on the web by Tim Berners-Lee in 1992 (an image of the CERN house band Les Horribles Cernettes).',\n",
       " 'Today popular sites such as Flickr, PhotoBucket and 500px are used by millions of people to share their pictures.',\n",
       " 'Ideal photograph storage involves placing each photo in an individual folder constructed from buffered, or acid-free paper.',\n",
       " 'Buffered paper folders are especially recommended in cases when a photograph was previously mounted onto poor quality material or using an adhesive that will lead to even more acid creation.',\n",
       " 'Store photographs measuring 8x10 inches or smaller vertically along the longer edge of the photo in the buffered paper folder, within a larger archival box, and label each folder with relevant information to identify it.',\n",
       " 'The rigid nature of the folder protects the photo from slumping or creasing, as long as the box is not packed too tightly or under filled.',\n",
       " 'Folder larger photos or brittle photos stacked flat within archival boxes with other materials of comparable size.',\n",
       " 'The most stable of plastics used in photo preservation, polyester, does not generate any harmful chemical elements, nor does it have any capability to absorb acids generated by the photograph itself.',\n",
       " 'Polyester sleeves and encapsulation have been praised for their ability to protect the photograph from humidity and environmental pollution, slowing the reaction between the item and the atmosphere.',\n",
       " 'This is true, however the polyester just as frequently traps these elements next to the material it is intended to protect.',\n",
       " 'This is especially risky in a storage environment that experiences drastic fluctuations in humidity or temperature, leading to ferrotyping, or sticking of the photograph to the plastic.',\n",
       " 'Photographs sleeved or encapsulated in polyester cannot be stored vertically in boxes because they will slide down next to each other within the box, bending and folding, nor can the archivist write directly onto the polyester to identify the photograph.',\n",
       " 'Therefore, it is necessary to either stack polyester protected photographs horizontally within a box, or bind them in a three ring binder.',\n",
       " 'Stacking the photos horizontally within a flat box will greatly reduce ease of access, and binders leave three sides of the photo exposed to the effects of light and do not support the photograph evenly on both sides, leading to slumping and bending within the binder.',\n",
       " 'The plastic used for enclosures has been manufactured to be as frictionless as possible to prevent scratching photos during insertion to the sleeves.',\n",
       " 'Unfortunately, the slippery nature of the enclosure generates a build-up of static electricity, which attracts dust and lint particles.',\n",
       " 'The static can attract the dust to the inside of the sleeve, as well, where it can scratch the photograph.',\n",
       " 'Likewise, these components that aid in insertion of the photo, referred to as slip agents, can break down and transfer from the plastic to the photograph, where they deposit as an oily film, attracting further lint and dust.',\n",
       " 'At this time, there is no test to evaluate the long-term effects of these components on photographs.',\n",
       " 'In addition, the plastic sleeves can develop kinks or creases in the surface, which will scratch away at the emulsion during handling.',\n",
       " 'It is best to leave photographs lying flat on the table when viewing them.',\n",
       " 'Do not pick it up from a corner, or even from two sides and hold it at eye level.',\n",
       " 'Every time the photograph bends, even a little, this can break down the emulsion.',\n",
       " 'The very nature of enclosing a photograph in plastic encourages users to pick it up; users tend to handle plastic enclosed photographs less gently than non-enclosed photographs, simply because they feel the plastic enclosure makes the photo impervious to all mishandling.',\n",
       " 'As long as a photo is in its folder, there is no need to touch it; simply remove the folder from the box, lay it flat on the table, and open the folder.',\n",
       " 'If for some reason the researcher or archivist does need to handle the actual photo, perhaps to examine the verso for writing, he or she can use gloves if there appears to be a risk from oils or dirt on the hands.',\n",
       " 'Because daguerreotypes were rendered on a mirrored surface, many spiritualists also became practitioners of the new art form.',\n",
       " \"Spiritualists would claim that the human image on the mirrored surface was akin to looking into one's soul.\",\n",
       " 'The spiritualists also believed that it would open their souls and let demons in.',\n",
       " 'Among Muslims, it is makruh (disliked) to perform salah (worship) in a place decorated with photographs.',\n",
       " 'Photography and darkroom anomalies and artifacts sometimes lead viewers to believe that spirits or demons have been captured in photos.',\n",
       " \"The production or distribution of certain types of photograph has been forbidden under modern laws, such as those of government buildings, highly classified regions, private property, copyrighted works, children's genitalia, child pornography and less commonly pornography overall.\",\n",
       " 'These laws vary greatly between jurisdictions.']"
      ]
     },
     "execution_count": 9,
     "metadata": {},
     "output_type": "execute_result"
    }
   ],
   "source": [
    "sentence_list"
   ]
  },
  {
   "cell_type": "code",
   "execution_count": 10,
   "id": "c03afb0b",
   "metadata": {},
   "outputs": [],
   "source": [
    "stopwords = nltk.corpus.stopwords.words('english')\n",
    "\n",
    "word_frequencies = {}\n",
    "for word in nltk.word_tokenize(formatted_article_text):\n",
    "    if word not in stopwords:\n",
    "        if word not in word_frequencies.keys():\n",
    "            word_frequencies[word] = 1\n",
    "        else:\n",
    "            word_frequencies[word] += 1"
   ]
  },
  {
   "cell_type": "code",
   "execution_count": 11,
   "id": "0cd95ba8",
   "metadata": {},
   "outputs": [
    {
     "name": "stdout",
     "output_type": "stream",
     "text": [
      "{'A': 0.058823529411764705, 'photograph': 0.9411764705882353, 'also': 0.17647058823529413, 'known': 0.11764705882352941, 'photo': 0.5882352941176471, 'image': 0.5882352941176471, 'created': 0.23529411764705882, 'light': 0.47058823529411764, 'falling': 0.058823529411764705, 'photosensitive': 0.058823529411764705, 'surface': 0.29411764705882354, 'usually': 0.11764705882352941, 'photographic': 0.23529411764705882, 'film': 0.6470588235294118, 'electronic': 0.058823529411764705, 'sensor': 0.058823529411764705, 'CCD': 0.058823529411764705, 'CMOS': 0.058823529411764705, 'chip': 0.058823529411764705, 'Most': 0.11764705882352941, 'photographs': 0.8235294117647058, 'using': 0.29411764705882354, 'smartphone': 0.058823529411764705, 'camera': 0.4117647058823529, 'uses': 0.058823529411764705, 'lens': 0.058823529411764705, 'focus': 0.058823529411764705, 'scene': 0.11764705882352941, 'visible': 0.058823529411764705, 'wavelengths': 0.058823529411764705, 'reproduction': 0.058823529411764705, 'human': 0.11764705882352941, 'eye': 0.11764705882352941, 'would': 0.23529411764705882, 'see': 0.11764705882352941, 'The': 1.0, 'process': 0.7647058823529411, 'practice': 0.058823529411764705, 'creating': 0.11764705882352941, 'images': 0.17647058823529413, 'called': 0.11764705882352941, 'photography': 0.47058823529411764, 'word': 0.058823529411764705, 'coined': 0.11764705882352941, 'Sir': 0.058823529411764705, 'John': 0.11764705882352941, 'Herschel': 0.11764705882352941, 'based': 0.17647058823529413, 'Greek': 0.058823529411764705, 'phos': 0.058823529411764705, 'meaning': 0.17647058823529413, 'graph': 0.058823529411764705, 'drawing': 0.11764705882352941, 'writing': 0.11764705882352941, 'together': 0.058823529411764705, 'first': 0.35294117647058826, 'permanent': 0.058823529411764705, 'contact': 0.058823529411764705, 'exposed': 0.23529411764705882, 'copy': 0.058823529411764705, 'engraving': 0.058823529411764705, 'made': 0.29411764705882354, 'bitumen': 0.058823529411764705, 'heliography': 0.058823529411764705, 'developed': 0.17647058823529413, 'Nic': 0.058823529411764705, 'phore': 0.058823529411764705, 'Ni': 0.23529411764705882, 'pce': 0.23529411764705882, 'real': 0.058823529411764705, 'world': 0.11764705882352941, 'obscura': 0.058823529411764705, 'followed': 0.058823529411764705, 'years': 0.17647058823529413, 'later': 0.058823529411764705, 'Le': 0.058823529411764705, 'Gras': 0.058823529411764705, 'France': 0.058823529411764705, 'sensitive': 0.23529411764705882, 'enough': 0.058823529411764705, 'practical': 0.23529411764705882, 'application': 0.058823529411764705, 'exposure': 0.11764705882352941, 'lasting': 0.058823529411764705, 'hours': 0.058823529411764705, 'days': 0.058823529411764705, 'required': 0.17647058823529413, 'In': 0.17647058823529413, 'entered': 0.058823529411764705, 'partnership': 0.058823529411764705, 'Louis': 0.11764705882352941, 'Daguerre': 0.11764705882352941, 'two': 0.23529411764705882, 'collaborated': 0.058823529411764705, 'work': 0.11764705882352941, 'similar': 0.058823529411764705, 'otherwise': 0.058823529411764705, 'improved': 0.11764705882352941, 'After': 0.058823529411764705, 'death': 0.058823529411764705, 'concentrated': 0.058823529411764705, 'silver': 0.23529411764705882, 'halide': 0.058823529411764705, 'alternatives': 0.058823529411764705, 'He': 0.11764705882352941, 'plated': 0.058823529411764705, 'copper': 0.058823529411764705, 'sheet': 0.058823529411764705, 'iodine': 0.058823529411764705, 'vapor': 0.058823529411764705, 'layer': 0.11764705882352941, 'iodide': 0.11764705882352941, 'minutes': 0.11764705882352941, 'resulting': 0.058823529411764705, 'invisible': 0.058823529411764705, 'latent': 0.058823529411764705, 'visibility': 0.058823529411764705, 'mercury': 0.058823529411764705, 'fumes': 0.058823529411764705, 'bathed': 0.058823529411764705, 'plate': 0.11764705882352941, 'hot': 0.058823529411764705, 'salt': 0.058823529411764705, 'solution': 0.058823529411764705, 'remove': 0.11764705882352941, 'remaining': 0.058823529411764705, 'making': 0.17647058823529413, 'results': 0.058823529411764705, 'fast': 0.058823529411764705, 'named': 0.058823529411764705, 'daguerreotype': 0.17647058823529413, 'Its': 0.058823529411764705, 'existence': 0.058823529411764705, 'announced': 0.058823529411764705, 'January': 0.058823529411764705, 'working': 0.11764705882352941, 'details': 0.058823529411764705, 'public': 0.058823529411764705, 'August': 0.058823529411764705, 'Other': 0.058823529411764705, 'inventors': 0.058823529411764705, 'soon': 0.11764705882352941, 'improvements': 0.058823529411764705, 'reduced': 0.058823529411764705, 'time': 0.17647058823529413, 'seconds': 0.058823529411764705, 'portrait': 0.058823529411764705, 'truly': 0.058823529411764705, 'widely': 0.17647058823529413, 'popular': 0.35294117647058826, 'shortcomings': 0.058823529411764705, 'notably': 0.058823529411764705, 'fragility': 0.058823529411764705, 'mirror': 0.058823529411764705, 'like': 0.11764705882352941, 'particular': 0.058823529411764705, 'viewing': 0.17647058823529413, 'conditions': 0.058823529411764705, 'properly': 0.058823529411764705, 'Each': 0.058823529411764705, 'unique': 0.058823529411764705, 'opaque': 0.058823529411764705, 'positive': 0.23529411764705882, 'could': 0.058823529411764705, 'duplicated': 0.058823529411764705, 'copying': 0.058823529411764705, 'Inventors': 0.058823529411764705, 'set': 0.058823529411764705, 'processes': 0.17647058823529413, 'By': 0.058823529411764705, 'end': 0.058823529411764705, 'replaced': 0.058823529411764705, 'less': 0.29411764705882354, 'expensive': 0.11764705882352941, 'easily': 0.058823529411764705, 'viewed': 0.058823529411764705, 'ambrotype': 0.058823529411764705, 'tintype': 0.058823529411764705, 'use': 0.23529411764705882, 'recently': 0.058823529411764705, 'introduced': 0.058823529411764705, 'collodion': 0.11764705882352941, 'Glass': 0.058823529411764705, 'negatives': 0.058823529411764705, 'used': 0.5294117647058824, 'make': 0.058823529411764705, 'prints': 0.4117647058823529, 'albumen': 0.058823529411764705, 'paper': 0.4117647058823529, 'became': 0.23529411764705882, 'preferred': 0.058823529411764705, 'method': 0.058823529411764705, 'held': 0.11764705882352941, 'position': 0.058823529411764705, 'many': 0.17647058823529413, 'even': 0.29411764705882354, 'introduction': 0.23529411764705882, 'convenient': 0.058823529411764705, 'gelatin': 0.11764705882352941, 'Refinements': 0.058823529411764705, 'remained': 0.11764705882352941, 'primary': 0.058823529411764705, 'black': 0.23529411764705882, 'white': 0.23529411764705882, 'day': 0.058823529411764705, 'differing': 0.058823529411764705, 'primarily': 0.058823529411764705, 'sensitivity': 0.058823529411764705, 'emulsion': 0.17647058823529413, 'support': 0.11764705882352941, 'material': 0.17647058823529413, 'originally': 0.058823529411764705, 'glass': 0.058823529411764705, 'variety': 0.058823529411764705, 'flexible': 0.058823529411764705, 'plastic': 0.47058823529411764, 'films': 0.17647058823529413, 'along': 0.11764705882352941, 'various': 0.058823529411764705, 'types': 0.17647058823529413, 'final': 0.058823529411764705, 'Color': 0.058823529411764705, 'almost': 0.058823529411764705, 'old': 0.058823529411764705, 'early': 0.17647058823529413, 'experiments': 0.058823529411764705, 'including': 0.058823529411764705, 'Anthotype': 0.058823529411764705, 'pioneering': 0.058823529411764705, 'Ducos': 0.058823529411764705, 'du': 0.058823529411764705, 'Hauron': 0.058823529411764705, 'Lippmann': 0.058823529411764705, 'unveiled': 0.058823529411764705, 'color': 0.5882352941176471, 'little': 0.11764705882352941, 'laboratory': 0.058823529411764705, 'curiosity': 0.058823529411764705, 'It': 0.11764705882352941, 'widespread': 0.058823529411764705, 'commercial': 0.058823529411764705, 'reality': 0.058823529411764705, 'Autochrome': 0.058823529411764705, 'plates': 0.11764705882352941, 'suitable': 0.058823529411764705, 'casual': 0.058823529411764705, 'snapshot': 0.058823529411764705, 'taking': 0.058823529411764705, 'hand': 0.11764705882352941, 'cameras': 0.17647058823529413, 'mid': 0.058823529411764705, 'saw': 0.058823529411764705, 'Kodachrome': 0.058823529411764705, 'Agfacolor': 0.058823529411764705, 'Neu': 0.058823529411764705, 'easy': 0.058823529411764705, 'modern': 0.11764705882352941, 'multi': 0.058823529411764705, 'chromogenic': 0.11764705882352941, 'type': 0.058823529411764705, 'These': 0.17647058823529413, 'produced': 0.11764705882352941, 'transparencies': 0.17647058823529413, 'slide': 0.11764705882352941, 'projectors': 0.058823529411764705, 'devices': 0.058823529411764705, 'increasingly': 0.058823529411764705, 'print': 0.058823529411764705, 'needs': 0.058823529411764705, 'motion': 0.11764705882352941, 'picture': 0.11764705882352941, 'industry': 0.058823529411764705, 'generated': 0.11764705882352941, 'number': 0.058823529411764705, 'special': 0.058823529411764705, 'systems': 0.058823529411764705, 'perhaps': 0.11764705882352941, 'best': 0.11764705882352941, 'obsolete': 0.058823529411764705, 'three': 0.17647058823529413, 'strip': 0.058823529411764705, 'Technicolor': 0.058823529411764705, 'Non': 0.058823529411764705, 'digital': 0.23529411764705882, 'step': 0.11764705882352941, 'chemical': 0.11764705882352941, 'captures': 0.058823529411764705, 'negative': 0.23529411764705882, 'colors': 0.058823529411764705, 'lights': 0.058823529411764705, 'darks': 0.058823529411764705, 'inverted': 0.058823529411764705, 'To': 0.058823529411764705, 'produce': 0.058823529411764705, 'commonly': 0.11764705882352941, 'transferred': 0.058823529411764705, 'printed': 0.058823529411764705, 'onto': 0.23529411764705882, 'Printing': 0.058823529411764705, 'transparent': 0.058823529411764705, 'stock': 0.058823529411764705, 'manufacture': 0.058823529411764705, 'Alternatively': 0.058823529411764705, 'processed': 0.058823529411764705, 'invert': 0.058823529411764705, 'yielding': 0.058823529411764705, 'Such': 0.058823529411764705, 'mounted': 0.11764705882352941, 'frames': 0.058823529411764705, 'slides': 0.058823529411764705, 'Before': 0.058823529411764705, 'recent': 0.058823529411764705, 'advances': 0.058823529411764705, 'professionals': 0.058823529411764705, 'sharpness': 0.058823529411764705, 'accuracy': 0.058823529411764705, 'rendition': 0.058823529411764705, 'published': 0.11764705882352941, 'magazines': 0.058823529411764705, 'taken': 0.17647058823529413, 'transparency': 0.058823529411764705, 'Originally': 0.058823529411764705, 'monochromatic': 0.058823529411764705, 'painted': 0.058823529411764705, 'Although': 0.058823529411764705, 'methods': 0.058823529411764705, 'developing': 0.058823529411764705, 'photos': 0.47058823529411764, 'available': 0.23529411764705882, 'become': 0.11764705882352941, 'Since': 0.11764705882352941, 'dominated': 0.058823529411764705, 'although': 0.058823529411764705, 'still': 0.058823529411764705, 'easier': 0.058823529411764705, 'develop': 0.11764705882352941, 'Panoramic': 0.058823529411764705, 'format': 0.11764705882352941, 'Hasselblad': 0.058823529411764705, 'Xpan': 0.058823529411764705, 'standard': 0.058823529411764705, 'panoramic': 0.11764705882352941, 'Advanced': 0.058823529411764705, 'Photo': 0.058823529411764705, 'System': 0.058823529411764705, 'APS': 0.23529411764705882, 'several': 0.058823529411764705, 'major': 0.058823529411764705, 'manufacturers': 0.058823529411764705, 'provide': 0.058823529411764705, 'different': 0.058823529411764705, 'formats': 0.11764705882352941, 'computerized': 0.058823529411764705, 'options': 0.058823529411764705, 'though': 0.058823529411764705, 'panoramas': 0.058823529411764705, 'mask': 0.058823529411764705, 'panorama': 0.058823529411764705, 'capable': 0.058823529411764705, 'far': 0.058823529411764705, 'desirable': 0.058823529411764705, 'true': 0.11764705882352941, 'achieves': 0.058823529411764705, 'effect': 0.058823529411764705, 'wider': 0.058823529411764705, 'discontinued': 0.058823529411764705, 'advent': 0.058823529411764705, 'microcomputer': 0.058823529411764705, 'led': 0.058823529411764705, 'rise': 0.058823529411764705, 'stored': 0.11764705882352941, 'graphic': 0.058823529411764705, 'JPEG': 0.058823529411764705, 'TIFF': 0.058823529411764705, 'RAW': 0.058823529411764705, 'printers': 0.23529411764705882, 'include': 0.058823529411764705, 'inkjet': 0.058823529411764705, 'dye': 0.058823529411764705, 'sublimation': 0.058823529411764705, 'printer': 0.058823529411764705, 'laser': 0.058823529411764705, 'thermal': 0.058823529411764705, 'Inkjet': 0.058823529411764705, 'sometimes': 0.11764705882352941, 'given': 0.058823529411764705, 'name': 0.058823529411764705, 'Gicl': 0.058823529411764705, 'e': 0.058823529411764705, 'Web': 0.058823529411764705, 'medium': 0.058823529411764705, 'storing': 0.058823529411764705, 'sharing': 0.058823529411764705, 'ever': 0.058823529411764705, 'since': 0.058823529411764705, 'web': 0.058823529411764705, 'Tim': 0.058823529411764705, 'Berners': 0.058823529411764705, 'Lee': 0.058823529411764705, 'CERN': 0.058823529411764705, 'house': 0.058823529411764705, 'band': 0.058823529411764705, 'Les': 0.058823529411764705, 'Horribles': 0.058823529411764705, 'Cernettes': 0.058823529411764705, 'Today': 0.058823529411764705, 'sites': 0.058823529411764705, 'Flickr': 0.058823529411764705, 'PhotoBucket': 0.058823529411764705, 'px': 0.058823529411764705, 'millions': 0.058823529411764705, 'people': 0.058823529411764705, 'share': 0.058823529411764705, 'pictures': 0.058823529411764705, 'Ideal': 0.058823529411764705, 'storage': 0.11764705882352941, 'involves': 0.058823529411764705, 'placing': 0.058823529411764705, 'individual': 0.058823529411764705, 'folder': 0.4117647058823529, 'constructed': 0.058823529411764705, 'buffered': 0.11764705882352941, 'acid': 0.11764705882352941, 'free': 0.058823529411764705, 'Buffered': 0.058823529411764705, 'folders': 0.058823529411764705, 'especially': 0.11764705882352941, 'recommended': 0.058823529411764705, 'cases': 0.058823529411764705, 'previously': 0.058823529411764705, 'poor': 0.058823529411764705, 'quality': 0.058823529411764705, 'adhesive': 0.058823529411764705, 'lead': 0.11764705882352941, 'creation': 0.058823529411764705, 'Store': 0.058823529411764705, 'measuring': 0.058823529411764705, 'x': 0.058823529411764705, 'inches': 0.058823529411764705, 'smaller': 0.058823529411764705, 'vertically': 0.11764705882352941, 'longer': 0.058823529411764705, 'edge': 0.058823529411764705, 'within': 0.35294117647058826, 'larger': 0.11764705882352941, 'archival': 0.11764705882352941, 'box': 0.35294117647058826, 'label': 0.058823529411764705, 'relevant': 0.058823529411764705, 'information': 0.058823529411764705, 'identify': 0.11764705882352941, 'rigid': 0.058823529411764705, 'nature': 0.17647058823529413, 'protects': 0.058823529411764705, 'slumping': 0.11764705882352941, 'creasing': 0.058823529411764705, 'long': 0.17647058823529413, 'packed': 0.058823529411764705, 'tightly': 0.058823529411764705, 'filled': 0.058823529411764705, 'Folder': 0.058823529411764705, 'brittle': 0.058823529411764705, 'stacked': 0.058823529411764705, 'flat': 0.23529411764705882, 'boxes': 0.11764705882352941, 'materials': 0.058823529411764705, 'comparable': 0.058823529411764705, 'size': 0.058823529411764705, 'stable': 0.058823529411764705, 'plastics': 0.058823529411764705, 'preservation': 0.058823529411764705, 'polyester': 0.29411764705882354, 'generate': 0.058823529411764705, 'harmful': 0.058823529411764705, 'elements': 0.11764705882352941, 'capability': 0.058823529411764705, 'absorb': 0.058823529411764705, 'acids': 0.058823529411764705, 'Polyester': 0.058823529411764705, 'sleeves': 0.17647058823529413, 'encapsulation': 0.058823529411764705, 'praised': 0.058823529411764705, 'ability': 0.058823529411764705, 'protect': 0.11764705882352941, 'humidity': 0.11764705882352941, 'environmental': 0.058823529411764705, 'pollution': 0.058823529411764705, 'slowing': 0.058823529411764705, 'reaction': 0.058823529411764705, 'item': 0.058823529411764705, 'atmosphere': 0.058823529411764705, 'This': 0.11764705882352941, 'however': 0.058823529411764705, 'frequently': 0.058823529411764705, 'traps': 0.058823529411764705, 'next': 0.11764705882352941, 'intended': 0.058823529411764705, 'risky': 0.058823529411764705, 'environment': 0.058823529411764705, 'experiences': 0.058823529411764705, 'drastic': 0.058823529411764705, 'fluctuations': 0.058823529411764705, 'temperature': 0.058823529411764705, 'leading': 0.11764705882352941, 'ferrotyping': 0.058823529411764705, 'sticking': 0.058823529411764705, 'Photographs': 0.058823529411764705, 'sleeved': 0.058823529411764705, 'encapsulated': 0.058823529411764705, 'bending': 0.11764705882352941, 'folding': 0.058823529411764705, 'archivist': 0.11764705882352941, 'write': 0.058823529411764705, 'directly': 0.058823529411764705, 'Therefore': 0.058823529411764705, 'necessary': 0.058823529411764705, 'either': 0.058823529411764705, 'stack': 0.058823529411764705, 'protected': 0.058823529411764705, 'horizontally': 0.11764705882352941, 'bind': 0.058823529411764705, 'ring': 0.058823529411764705, 'binder': 0.11764705882352941, 'Stacking': 0.058823529411764705, 'greatly': 0.11764705882352941, 'reduce': 0.058823529411764705, 'ease': 0.058823529411764705, 'access': 0.058823529411764705, 'binders': 0.058823529411764705, 'leave': 0.11764705882352941, 'sides': 0.17647058823529413, 'effects': 0.11764705882352941, 'evenly': 0.058823529411764705, 'enclosures': 0.058823529411764705, 'manufactured': 0.058823529411764705, 'frictionless': 0.058823529411764705, 'possible': 0.058823529411764705, 'prevent': 0.058823529411764705, 'scratching': 0.058823529411764705, 'insertion': 0.11764705882352941, 'Unfortunately': 0.058823529411764705, 'slippery': 0.058823529411764705, 'enclosure': 0.11764705882352941, 'generates': 0.058823529411764705, 'build': 0.058823529411764705, 'static': 0.11764705882352941, 'electricity': 0.058823529411764705, 'attracts': 0.058823529411764705, 'dust': 0.17647058823529413, 'lint': 0.11764705882352941, 'particles': 0.058823529411764705, 'attract': 0.058823529411764705, 'inside': 0.058823529411764705, 'sleeve': 0.058823529411764705, 'well': 0.058823529411764705, 'scratch': 0.11764705882352941, 'Likewise': 0.058823529411764705, 'components': 0.11764705882352941, 'aid': 0.058823529411764705, 'referred': 0.058823529411764705, 'slip': 0.058823529411764705, 'agents': 0.058823529411764705, 'break': 0.11764705882352941, 'transfer': 0.058823529411764705, 'deposit': 0.058823529411764705, 'oily': 0.058823529411764705, 'attracting': 0.058823529411764705, 'At': 0.058823529411764705, 'test': 0.058823529411764705, 'evaluate': 0.058823529411764705, 'term': 0.058823529411764705, 'addition': 0.058823529411764705, 'kinks': 0.058823529411764705, 'creases': 0.058823529411764705, 'away': 0.058823529411764705, 'handling': 0.058823529411764705, 'lying': 0.058823529411764705, 'table': 0.11764705882352941, 'Do': 0.058823529411764705, 'pick': 0.11764705882352941, 'corner': 0.058823529411764705, 'hold': 0.058823529411764705, 'level': 0.058823529411764705, 'Every': 0.058823529411764705, 'bends': 0.058823529411764705, 'enclosing': 0.058823529411764705, 'encourages': 0.058823529411764705, 'users': 0.11764705882352941, 'tend': 0.058823529411764705, 'handle': 0.11764705882352941, 'enclosed': 0.11764705882352941, 'gently': 0.058823529411764705, 'non': 0.058823529411764705, 'simply': 0.11764705882352941, 'feel': 0.058823529411764705, 'makes': 0.058823529411764705, 'impervious': 0.058823529411764705, 'mishandling': 0.058823529411764705, 'As': 0.058823529411764705, 'need': 0.11764705882352941, 'touch': 0.058823529411764705, 'lay': 0.058823529411764705, 'open': 0.11764705882352941, 'If': 0.058823529411764705, 'reason': 0.058823529411764705, 'researcher': 0.058823529411764705, 'actual': 0.058823529411764705, 'examine': 0.058823529411764705, 'verso': 0.058823529411764705, 'gloves': 0.058823529411764705, 'appears': 0.058823529411764705, 'risk': 0.058823529411764705, 'oils': 0.058823529411764705, 'dirt': 0.058823529411764705, 'hands': 0.058823529411764705, 'Because': 0.058823529411764705, 'daguerreotypes': 0.058823529411764705, 'rendered': 0.058823529411764705, 'mirrored': 0.11764705882352941, 'spiritualists': 0.11764705882352941, 'practitioners': 0.058823529411764705, 'new': 0.058823529411764705, 'art': 0.058823529411764705, 'form': 0.058823529411764705, 'Spiritualists': 0.058823529411764705, 'claim': 0.058823529411764705, 'akin': 0.058823529411764705, 'looking': 0.058823529411764705, 'one': 0.058823529411764705, 'soul': 0.058823529411764705, 'believed': 0.058823529411764705, 'souls': 0.058823529411764705, 'let': 0.058823529411764705, 'demons': 0.11764705882352941, 'Among': 0.058823529411764705, 'Muslims': 0.058823529411764705, 'makruh': 0.058823529411764705, 'disliked': 0.058823529411764705, 'perform': 0.058823529411764705, 'salah': 0.058823529411764705, 'worship': 0.058823529411764705, 'place': 0.058823529411764705, 'decorated': 0.058823529411764705, 'Photography': 0.058823529411764705, 'darkroom': 0.058823529411764705, 'anomalies': 0.058823529411764705, 'artifacts': 0.058823529411764705, 'viewers': 0.058823529411764705, 'believe': 0.058823529411764705, 'spirits': 0.058823529411764705, 'captured': 0.058823529411764705, 'production': 0.058823529411764705, 'distribution': 0.058823529411764705, 'certain': 0.058823529411764705, 'forbidden': 0.058823529411764705, 'laws': 0.11764705882352941, 'government': 0.058823529411764705, 'buildings': 0.058823529411764705, 'highly': 0.058823529411764705, 'classified': 0.058823529411764705, 'regions': 0.058823529411764705, 'private': 0.058823529411764705, 'property': 0.058823529411764705, 'copyrighted': 0.058823529411764705, 'works': 0.058823529411764705, 'children': 0.058823529411764705, 'genitalia': 0.058823529411764705, 'child': 0.058823529411764705, 'pornography': 0.11764705882352941, 'overall': 0.058823529411764705, 'vary': 0.058823529411764705, 'jurisdictions': 0.058823529411764705}\n"
     ]
    }
   ],
   "source": [
    "maximum_frequncy = max(word_frequencies.values())\n",
    "\n",
    "for word in word_frequencies.keys():\n",
    "    word_frequencies[word] = (word_frequencies[word]/maximum_frequncy)\n",
    "    \n",
    "print(word_frequencies)\n",
    "    "
   ]
  },
  {
   "cell_type": "code",
   "execution_count": 12,
   "id": "dd0eb57d",
   "metadata": {},
   "outputs": [
    {
     "name": "stdout",
     "output_type": "stream",
     "text": [
      "{\"Most photographs are created using a smartphone/camera, which uses a lens to focus the scene's visible wavelengths of light into a reproduction of what the human eye would see.\": 2.8823529411764706, 'The process and practice of creating such images is called photography.': 1.7058823529411766, 'The first permanent photograph, a contact-exposed copy of an engraving, was made in 1822 using the bitumen-based \"heliography\" process developed by Nicéphore Niépce.': 3.0588235294117645, 'In 1829 Niépce entered into a partnership with Louis Daguerre and the two collaborated to work out a similar but more sensitive and otherwise improved process.': 1.7647058823529411, \"After Niépce's death in 1833 Daguerre concentrated on silver halide-based alternatives.\": 0.4117647058823529, 'He named this first practical process for making photographs with a camera the daguerreotype, after himself.': 2.9999999999999996, 'Its existence was announced to the world on 7 January 1839 but working details were not made public until 19 August.': 0.7647058823529411, 'Other inventors soon made improvements which reduced the required exposure time from a few minutes to a few seconds, making portrait photography truly practical and widely popular.': 2.764705882352941, 'The daguerreotype had shortcomings, notably the fragility of the mirror-like image surface and the particular viewing conditions required to see the image properly.': 2.4705882352941178, 'Each was a unique opaque positive that could only be duplicated by copying it with a camera.': 0.9411764705882353, 'Inventors set about working out improved processes that would be more practical.': 1.0, 'The mid-1930s saw the introduction of Kodachrome and Agfacolor Neu, the first easy-to-use color films of the modern multi-layer chromogenic type.': 1.7058823529411766, 'The needs of the motion picture industry generated a number of special processes and systems, perhaps the best-known being the now-obsolete three-strip Technicolor process.': 1.7058823529411766, 'Non-digital photographs are produced with a two-step chemical process.': 1.8235294117647058, 'In the two-step process the light-sensitive film captures a negative image (colors and lights/darks are inverted).': 2.4117647058823524, \"To produce a positive image, the negative is most commonly transferred ('printed') onto photographic paper.\": 2.1764705882352944, 'Printing the negative onto transparent film stock is used to manufacture motion picture films.': 2.2352941176470584, 'Alternatively, the film is processed to invert the negative image, yielding positive transparencies.': 2.058823529411765, 'Such positive images are usually mounted in frames, called slides.': 0.8823529411764707, 'Before recent advances in digital photography, transparencies were widely used by professionals because of their sharpness and accuracy of color rendition.': 2.5294117647058822, 'Most photographs published in magazines were taken on color transparency film.': 2.4705882352941178, 'Originally, all photographs were monochromatic or hand-painted in color.': 1.5294117647058822, 'Since then, color photography has dominated popular photography, although black and white is still used, being easier to develop than color.': 3.88235294117647, 'Panoramic format images can be taken with cameras like the Hasselblad Xpan on standard film.': 1.5882352941176472, 'Since the 1990s, panoramic photos have been available on the Advanced Photo System (APS) film.': 2.1176470588235294, 'APS has become less popular and has been discontinued.': 0.8235294117647058, 'The advent of the microcomputer and digital photography has led to the rise of digital prints.': 1.5882352941176472, 'These prints are created from stored graphic formats such as JPEG, TIFF, and RAW.': 0.9411764705882353, 'The types of printers used include inkjet printers, dye-sublimation printer, laser printers, and thermal printers.': 1.9411764705882355, 'Inkjet prints are sometimes given the coined name \"Giclée\".': 0.823529411764706, 'Today popular sites such as Flickr, PhotoBucket and 500px are used by millions of people to share their pictures.': 1.1764705882352942, 'Ideal photograph storage involves placing each photo in an individual folder constructed from buffered, or acid-free paper.': 2.8235294117647056, 'The rigid nature of the folder protects the photo from slumping or creasing, as long as the box is not packed too tightly or under filled.': 2.1764705882352935, 'Folder larger photos or brittle photos stacked flat within archival boxes with other materials of comparable size.': 2.5882352941176463, 'Polyester sleeves and encapsulation have been praised for their ability to protect the photograph from humidity and environmental pollution, slowing the reaction between the item and the atmosphere.': 2.1764705882352935, 'This is true, however the polyester just as frequently traps these elements next to the material it is intended to protect.': 1.1764705882352942, 'This is especially risky in a storage environment that experiences drastic fluctuations in humidity or temperature, leading to ferrotyping, or sticking of the photograph to the plastic.': 2.3529411764705883, 'Therefore, it is necessary to either stack polyester protected photographs horizontally within a box, or bind them in a three ring binder.': 2.5882352941176467, 'The plastic used for enclosures has been manufactured to be as frictionless as possible to prevent scratching photos during insertion to the sleeves.': 2.1176470588235294, 'Unfortunately, the slippery nature of the enclosure generates a build-up of static electricity, which attracts dust and lint particles.': 1.0, 'The static can attract the dust to the inside of the sleeve, as well, where it can scratch the photograph.': 1.5882352941176472, 'At this time, there is no test to evaluate the long-term effects of these components on photographs.': 1.3529411764705883, 'In addition, the plastic sleeves can develop kinks or creases in the surface, which will scratch away at the emulsion during handling.': 1.647058823529412, 'It is best to leave photographs lying flat on the table when viewing them.': 1.647058823529412, 'Do not pick it up from a corner, or even from two sides and hold it at eye level.': 1.1176470588235294, 'Every time the photograph bends, even a little, this can break down the emulsion.': 1.8823529411764708, 'Because daguerreotypes were rendered on a mirrored surface, many spiritualists also became practitioners of the new art form.': 1.4705882352941178, \"Spiritualists would claim that the human image on the mirrored surface was akin to looking into one's soul.\": 1.7647058823529413, 'The spiritualists also believed that it would open their souls and let demons in.': 0.9411764705882354, 'Among Muslims, it is makruh (disliked) to perform salah (worship) in a place decorated with photographs.': 1.2352941176470589, 'Photography and darkroom anomalies and artifacts sometimes lead viewers to believe that spirits or demons have been captured in photos.': 1.7058823529411766, 'These laws vary greatly between jurisdictions.': 0.3529411764705882}\n"
     ]
    }
   ],
   "source": [
    "sentence_scores = {}\n",
    "for sent in sentence_list:\n",
    "    for word in nltk.word_tokenize(sent.lower()):\n",
    "        if word in word_frequencies.keys():\n",
    "            if len(sent.split(' ')) < 30:\n",
    "                if sent not in sentence_scores.keys():\n",
    "                    sentence_scores[sent] = word_frequencies[word]\n",
    "                else:\n",
    "                    sentence_scores[sent] += word_frequencies[word]\n",
    "                    \n",
    "            \n",
    "print(sentence_scores)            "
   ]
  },
  {
   "cell_type": "code",
   "execution_count": null,
   "id": "2f684e69",
   "metadata": {},
   "outputs": [],
   "source": []
  },
  {
   "cell_type": "code",
   "execution_count": 13,
   "id": "d8561200",
   "metadata": {},
   "outputs": [
    {
     "name": "stdout",
     "output_type": "stream",
     "text": [
      "Since then, color photography has dominated popular photography, although black and white is still used, being easier to develop than color. The first permanent photograph, a contact-exposed copy of an engraving, was made in 1822 using the bitumen-based \"heliography\" process developed by Nicéphore Niépce. He named this first practical process for making photographs with a camera the daguerreotype, after himself. Most photographs are created using a smartphone/camera, which uses a lens to focus the scene's visible wavelengths of light into a reproduction of what the human eye would see. Ideal photograph storage involves placing each photo in an individual folder constructed from buffered, or acid-free paper. Other inventors soon made improvements which reduced the required exposure time from a few minutes to a few seconds, making portrait photography truly practical and widely popular. Therefore, it is necessary to either stack polyester protected photographs horizontally within a box, or bind them in a three ring binder.\n"
     ]
    }
   ],
   "source": [
    "import heapq\n",
    "summary_sentences = heapq.nlargest(7, sentence_scores, key=sentence_scores.get)\n",
    "\n",
    "summary = ' '.join(summary_sentences)\n",
    "print(summary)"
   ]
  },
  {
   "cell_type": "code",
   "execution_count": 15,
   "id": "31ff4a20",
   "metadata": {},
   "outputs": [
    {
     "data": {
      "text/plain": [
       "11454"
      ]
     },
     "execution_count": 15,
     "metadata": {},
     "output_type": "execute_result"
    }
   ],
   "source": [
    "len(article_text)"
   ]
  },
  {
   "cell_type": "code",
   "execution_count": 18,
   "id": "dbbba91c",
   "metadata": {},
   "outputs": [
    {
     "data": {
      "text/plain": [
       "1036"
      ]
     },
     "execution_count": 18,
     "metadata": {},
     "output_type": "execute_result"
    }
   ],
   "source": [
    "len(summary)"
   ]
  },
  {
   "cell_type": "code",
   "execution_count": null,
   "id": "926cca52",
   "metadata": {},
   "outputs": [],
   "source": []
  }
 ],
 "metadata": {
  "kernelspec": {
   "display_name": "Python 3",
   "language": "python",
   "name": "python3"
  },
  "language_info": {
   "codemirror_mode": {
    "name": "ipython",
    "version": 3
   },
   "file_extension": ".py",
   "mimetype": "text/x-python",
   "name": "python",
   "nbconvert_exporter": "python",
   "pygments_lexer": "ipython3",
   "version": "3.7.10"
  }
 },
 "nbformat": 4,
 "nbformat_minor": 5
}
